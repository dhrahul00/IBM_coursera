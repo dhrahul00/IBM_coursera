{
 "cells": [
  {
   "cell_type": "markdown",
   "id": "a7725033",
   "metadata": {},
   "source": [
    "# Data Science Tools and Ecosystem"
   ]
  },
  {
   "cell_type": "markdown",
   "id": "e0edabe8",
   "metadata": {},
   "source": [
    "In this notebook, Data Science Tools and Ecosystem are summarized."
   ]
  },
  {
   "cell_type": "markdown",
   "id": "643f36ad",
   "metadata": {},
   "source": [
    "Some of the popular languages that Data Scientists use are:"
   ]
  },
  {
   "cell_type": "code",
   "execution_count": 2,
   "id": "b1e7e495",
   "metadata": {},
   "outputs": [],
   "source": [
    "ordered_list = [\"Python\",\"R\",\"SQL\",\"Juilia\"]"
   ]
  },
  {
   "cell_type": "markdown",
   "id": "b1bb5f45",
   "metadata": {},
   "source": [
    "Some of the commonly used libraries used by Data Scientists include:"
   ]
  },
  {
   "cell_type": "code",
   "execution_count": 3,
   "id": "0208aeab",
   "metadata": {},
   "outputs": [],
   "source": [
    "ordered_lib = [\"numpy\",\"Scikit_learn\",\"Scipy\",\"tensorflow\",\"keras\"]"
   ]
  },
  {
   "cell_type": "markdown",
   "id": "2f6e8883",
   "metadata": {},
   "source": [
    "|S.no | Data Science Tools |\n",
    "|---:|:-----------------|\n",
    "| 1 | Jupyter Notebooks |\n",
    "| 2 | Anaconda |\n",
    "| 3 | Apache Spark |"
   ]
  },
  {
   "cell_type": "code",
   "execution_count": 5,
   "id": "0136c71a",
   "metadata": {},
   "outputs": [
    {
     "data": {
      "text/plain": [
       "17"
      ]
     },
     "execution_count": 5,
     "metadata": {},
     "output_type": "execute_result"
    }
   ],
   "source": [
    "# This a simple arithmetic expression to mutiply then add integers\n",
    "(3*4)+5"
   ]
  },
  {
   "cell_type": "code",
   "execution_count": 7,
   "id": "0bf49621",
   "metadata": {},
   "outputs": [
    {
     "data": {
      "text/plain": [
       "3.3333333333333335"
      ]
     },
     "execution_count": 7,
     "metadata": {},
     "output_type": "execute_result"
    }
   ],
   "source": [
    "# This will convert 200 minutes to hours by diving by 60\n",
    "minutes = 200\n",
    "hours = minutes/60\n",
    "hours"
   ]
  },
  {
   "cell_type": "markdown",
   "id": "bdd22237",
   "metadata": {},
   "source": [
    "## Author \n",
    "Rahul Dhali"
   ]
  }
 ],
 "metadata": {
  "kernelspec": {
   "display_name": "Python 3 (ipykernel)",
   "language": "python",
   "name": "python3"
  },
  "language_info": {
   "codemirror_mode": {
    "name": "ipython",
    "version": 3
   },
   "file_extension": ".py",
   "mimetype": "text/x-python",
   "name": "python",
   "nbconvert_exporter": "python",
   "pygments_lexer": "ipython3",
   "version": "3.10.9"
  }
 },
 "nbformat": 4,
 "nbformat_minor": 5
}
