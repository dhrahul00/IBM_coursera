{
 "cells": [
  {
   "cell_type": "markdown",
   "id": "72242c89",
   "metadata": {},
   "source": [
    "# Data Science Tools and Ecosystem"
   ]
  },
  {
   "cell_type": "markdown",
   "id": "99e1fc54",
   "metadata": {},
   "source": [
    "In this notebook, Data Science Tools and Ecosystem are summarized."
   ]
  },
  {
   "cell_type": "markdown",
   "id": "a960343d",
   "metadata": {},
   "source": [
    "Objectives: \n",
    "unordered_list = List popular languages for Data Science,List of popular libaries for Data Science, List popular Data science tools for Data Science,Arthimatic Example, "
   ]
  },
  {
   "cell_type": "markdown",
   "id": "ba12ee67",
   "metadata": {},
   "source": [
    "Some of the popular languages that Data Scientists use are:"
   ]
  },
  {
   "cell_type": "code",
   "execution_count": 2,
   "id": "a7e12fc5",
   "metadata": {},
   "outputs": [],
   "source": [
    "ordered_list = [\"Python\",\"R\",\"SQL\",\"Juilia\"]"
   ]
  },
  {
   "cell_type": "markdown",
   "id": "aa576ac4",
   "metadata": {},
   "source": [
    "Some of the commonly used libraries used by Data Scientists include:"
   ]
  },
  {
   "cell_type": "code",
   "execution_count": 3,
   "id": "cb135e24",
   "metadata": {},
   "outputs": [],
   "source": [
    "ordered_lib = [\"numpy\",\"Scikit_learn\",\"Scipy\",\"tensorflow\",\"keras\"]"
   ]
  },
  {
   "cell_type": "markdown",
   "id": "f24c1eca",
   "metadata": {},
   "source": [
    "|S.no | Data Science Tools |\n",
    "|---:|:-----------------|\n",
    "| 1 | Jupyter Notebooks |\n",
    "| 2 | Anaconda |\n",
    "| 3 | Apache Spark |"
   ]
  },
  {
   "cell_type": "markdown",
   "id": "9bc086c6",
   "metadata": {},
   "source": [
    "## Below are a few examples of evaluating arithmetic expressions in Python"
   ]
  },
  {
   "cell_type": "code",
   "execution_count": 5,
   "id": "1c20d7af",
   "metadata": {},
   "outputs": [
    {
     "data": {
      "text/plain": [
       "17"
      ]
     },
     "execution_count": 5,
     "metadata": {},
     "output_type": "execute_result"
    }
   ],
   "source": [
    "# This a simple arithmetic expression to mutiply then add integers\n",
    "(3*4)+5"
   ]
  },
  {
   "cell_type": "code",
   "execution_count": 7,
   "id": "f38f0f4c",
   "metadata": {},
   "outputs": [
    {
     "data": {
      "text/plain": [
       "3.3333333333333335"
      ]
     },
     "execution_count": 7,
     "metadata": {},
     "output_type": "execute_result"
    }
   ],
   "source": [
    "# This will convert 200 minutes to hours by diving by 60\n",
    "minutes = 200\n",
    "hours = minutes/60\n",
    "hours"
   ]
  },
  {
   "cell_type": "markdown",
   "id": "fceecb68",
   "metadata": {},
   "source": [
    "## Author \n",
    "Rahul Dhali"
   ]
  }
 ],
 "metadata": {
  "kernelspec": {
   "display_name": "Python 3 (ipykernel)",
   "language": "python",
   "name": "python3"
  },
  "language_info": {
   "codemirror_mode": {
    "name": "ipython",
    "version": 3
   },
   "file_extension": ".py",
   "mimetype": "text/x-python",
   "name": "python",
   "nbconvert_exporter": "python",
   "pygments_lexer": "ipython3",
   "version": "3.10.9"
  }
 },
 "nbformat": 4,
 "nbformat_minor": 5
}
