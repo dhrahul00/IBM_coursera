{
 "cells": [
  {
   "cell_type": "code",
   "execution_count": 2,
   "id": "bd0ccafe",
   "metadata": {},
   "outputs": [
    {
     "name": "stdout",
     "output_type": "stream",
     "text": [
      "File downloaded successfully.\n"
     ]
    }
   ],
   "source": [
    "import requests\n",
    "\n",
    "url = \"https://cf-courses-data.s3.us.cloud-object-storage.appdomain.cloud/IBM-DS0321EN-SkillsNetwork/datasets/spacex_launch_dash.csv\"\n",
    "response = requests.get(url)\n",
    "\n",
    "if response.status_code == 200:\n",
    "    with open(\"spacex_launch_dash.csv\", \"wb\") as file:\n",
    "        file.write(response.content)\n",
    "    print(\"File downloaded successfully.\")\n",
    "else:\n",
    "    print(f\"Failed to download the file. Status code: {response.status_code}\")\n"
   ]
  },
  {
   "cell_type": "code",
   "execution_count": 3,
   "id": "21b7d3a5",
   "metadata": {},
   "outputs": [
    {
     "name": "stderr",
     "output_type": "stream",
     "text": [
      "C:\\Users\\rahul\\AppData\\Local\\Temp\\ipykernel_16116\\2073777625.py:4: UserWarning: \n",
      "The dash_html_components package is deprecated. Please replace\n",
      "`import dash_html_components as html` with `from dash import html`\n",
      "  import dash_html_components as html\n",
      "C:\\Users\\rahul\\AppData\\Local\\Temp\\ipykernel_16116\\2073777625.py:5: UserWarning: \n",
      "The dash_core_components package is deprecated. Please replace\n",
      "`import dash_core_components as dcc` with `from dash import dcc`\n",
      "  import dash_core_components as dcc\n"
     ]
    },
    {
     "data": {
      "text/html": [
       "\n",
       "        <iframe\n",
       "            width=\"100%\"\n",
       "            height=\"650\"\n",
       "            src=\"http://127.0.0.1:8050/\"\n",
       "            frameborder=\"0\"\n",
       "            allowfullscreen\n",
       "            \n",
       "        ></iframe>\n",
       "        "
      ],
      "text/plain": [
       "<IPython.lib.display.IFrame at 0x25fe49aaca0>"
      ]
     },
     "metadata": {},
     "output_type": "display_data"
    }
   ],
   "source": [
    "# Import required libraries\n",
    "import pandas as pd\n",
    "import dash\n",
    "import dash_html_components as html\n",
    "import dash_core_components as dcc\n",
    "from dash.dependencies import Input, Output\n",
    "import plotly.express as px\n",
    "\n",
    "# Read the airline data into pandas dataframe\n",
    "spacex_df = pd.read_csv(\"spacex_launch_dash.csv\")\n",
    "max_payload = spacex_df['Payload Mass (kg)'].max()\n",
    "min_payload = spacex_df['Payload Mass (kg)'].min()\n",
    "\n",
    "# Create a dash application\n",
    "app = dash.Dash(__name__)\n",
    "\n",
    "# Create an app layout\n",
    "app.layout = html.Div(children=[\n",
    "    html.H1('SpaceX Launch Records Dashboard',\n",
    "            style={'textAlign': 'center', 'color': '#503D36', 'font-size': 40}),\n",
    "    # TASK 1: Add a dropdown list to enable Launch Site selection\n",
    "    # The default select value is for ALL sites\n",
    "    # dcc.Dropdown(id='site-dropdown',...)\n",
    "    dcc.Dropdown(\n",
    "        id='site-dropdown',\n",
    "        options=[\n",
    "            {'label': 'All Sites', 'value': 'ALL'},\n",
    "            {'label': 'CCAFS LC-40', 'value': 'CCAFS LC-40'},\n",
    "            {'label': 'CCAFS SLC-40', 'value': 'CCAFS SLC-40'},\n",
    "            {'label': 'KSC LC-39A', 'value': 'KSC LC-39A'},\n",
    "            {'label': 'VAFB SLC-4E', 'value': 'VAFB SLC-4E'}\n",
    "        ],\n",
    "        value='all',\n",
    "        placeholder=\"Select a Launch Site here\",\n",
    "        searchable=True\n",
    "    ),\n",
    "    html.Br(),\n",
    "\n",
    "    # TASK 2: Add a pie chart to show the total successful launches count for all sites\n",
    "    # If a specific launch site was selected, show the Success vs. Failed counts for the site\n",
    "    html.Div(dcc.Graph(id='success-pie-chart')),\n",
    "    html.Br(),\n",
    "\n",
    "    html.P(\"Payload range (Kg):\"),\n",
    "    # TASK 3: Add a slider to select payload range\n",
    "    #dcc.RangeSlider(id='payload-slider',...)\n",
    "    dcc.RangeSlider(id='payload-slider',\n",
    "                min=0, max=10000, step=1000,\n",
    "                # marks={0: '0',\n",
    "                #        100: '100'},\n",
    "                value=[min_payload, max_payload]),\n",
    "\n",
    "    # TASK 4: Add a scatter chart to show the correlation between payload and launch success\n",
    "    html.Div(dcc.Graph(id='success-payload-scatter-chart')),\n",
    "])\n",
    "\n",
    "# TASK 2:\n",
    "# Add a callback function for `site-dropdown` as input, `success-pie-chart` as output\n",
    "@app.callback(Output(component_id='success-pie-chart', component_property='figure'),\n",
    "               Input(component_id='site-dropdown', component_property='value'))\n",
    "#Place to define the callback function .\n",
    "def get_pie_chart(entered_site):\n",
    "    filtered_df = spacex_df\n",
    "    if entered_site == 'ALL':\n",
    "        fig = px.pie(filtered_df, values='class', # use value 1 to calc success rate\n",
    "                    names='Launch Site', \n",
    "                    title='Total Success Launches by Site')\n",
    "        return fig\n",
    "    else:\n",
    "        # return the outcomes piechart for a selected site\n",
    "        filtered_df = filtered_df[filtered_df['Launch Site'] == entered_site]\n",
    "        fig = px.pie(filtered_df, #values='class', # no need to use value 1 to calc, just count 0 or 1\n",
    "                    names='class', \n",
    "                    title=f'Total Success Launches for {entered_site}')\n",
    "        return fig\n",
    "\n",
    "\n",
    "# TASK 4:\n",
    "# Add a callback function for `site-dropdown` and `payload-slider` as inputs, `success-payload-scatter-chart` as output\n",
    "@app.callback(Output(component_id='success-payload-scatter-chart', component_property='figure'),\n",
    "              [Input(component_id='site-dropdown', component_property='value'), \n",
    "               Input(component_id=\"payload-slider\", component_property=\"value\")])\n",
    "#Place to define the callback function .\n",
    "def get_scatter_plot(entered_site, payload):\n",
    "    filtered_df = spacex_df\n",
    "    if entered_site == 'ALL':\n",
    "        fig = px.scatter(filtered_df, x='Payload Mass (kg)', y=\"class\", \n",
    "                         color=\"Booster Version Category\",\n",
    "                         title='Correlation between Payload and Success for all Sites')\n",
    "        return fig\n",
    "    else:\n",
    "        # return the outcomes piechart for a selected site\n",
    "        filtered_df = filtered_df[(filtered_df['Launch Site']==entered_site) \\\n",
    "                & (filtered_df['Payload Mass (kg)'] >= payload[0]) \\\n",
    "                & (filtered_df['Payload Mass (kg)'] <= payload[1])]\n",
    "\n",
    "        fig = px.scatter(filtered_df, x='Payload Mass (kg)', y=\"class\", \n",
    "                         color=\"Booster Version Category\",\n",
    "                         title=f'Correlation between Payload and Success for {entered_site}')\n",
    "        return fig\n",
    "\n",
    "\n",
    "# Run the app\n",
    "if __name__ == '__main__':\n",
    "    app.run_server()"
   ]
  },
  {
   "cell_type": "code",
   "execution_count": null,
   "id": "33f1faf8",
   "metadata": {},
   "outputs": [],
   "source": []
  }
 ],
 "metadata": {
  "kernelspec": {
   "display_name": "tf",
   "language": "python",
   "name": "tf"
  },
  "language_info": {
   "codemirror_mode": {
    "name": "ipython",
    "version": 3
   },
   "file_extension": ".py",
   "mimetype": "text/x-python",
   "name": "python",
   "nbconvert_exporter": "python",
   "pygments_lexer": "ipython3",
   "version": "3.9.16"
  }
 },
 "nbformat": 4,
 "nbformat_minor": 5
}
